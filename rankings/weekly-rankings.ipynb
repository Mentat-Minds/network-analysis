{
 "cells": [
  {
   "cell_type": "markdown",
   "metadata": {},
   "source": [
    "# Weekly ranking for newsletter\n",
    "\n",
    "**Goal**: get the weekly emission rankings of \n",
    "- subnets\n",
    "- validators"
   ]
  },
  {
   "cell_type": "code",
   "execution_count": 1,
   "metadata": {},
   "outputs": [
    {
     "name": "stderr",
     "output_type": "stream",
     "text": [
      "/Users/gustave/miniconda3/envs/bittensor/lib/python3.10/site-packages/eth_utils/network.py:44: UserWarning: Network 345 with name 'Yooldo Verse Mainnet' does not have a valid ChainId. eth-typing should be updated with the latest networks.\n",
      "  warnings.warn(\n",
      "/Users/gustave/miniconda3/envs/bittensor/lib/python3.10/site-packages/eth_utils/network.py:44: UserWarning: Network 12611 with name 'Astar zkEVM' does not have a valid ChainId. eth-typing should be updated with the latest networks.\n",
      "  warnings.warn(\n"
     ]
    }
   ],
   "source": [
    "import pandas as pd\n",
    "import bittensor as bt\n",
    "from substrateinterface import SubstrateInterface\n",
    "subtensor = bt.subtensor('archive')"
   ]
  },
  {
   "cell_type": "code",
   "execution_count": 2,
   "metadata": {},
   "outputs": [],
   "source": [
    "substrate = SubstrateInterface(url=\"wss://archive.chain.opentensor.ai:443/\")"
   ]
  },
  {
   "cell_type": "code",
   "execution_count": 3,
   "metadata": {},
   "outputs": [
    {
     "name": "stdout",
     "output_type": "stream",
     "text": [
      "3120660\n"
     ]
    }
   ],
   "source": [
    "block = substrate.get_block()['header']['number']\n",
    "print(block)"
   ]
  },
  {
   "cell_type": "markdown",
   "metadata": {},
   "source": [
    "### Subnets"
   ]
  },
  {
   "cell_type": "code",
   "execution_count": 4,
   "metadata": {},
   "outputs": [],
   "source": [
    "# live_emissions\n",
    "current_emissions = {}\n",
    "for i in range(0, 35):\n",
    "    emission = subtensor.get_emission_value_by_subnet(i, block)\n",
    "    current_emissions[i] = float(emission)*100\n",
    "\n",
    "current_emissions = pd.DataFrame.from_dict(current_emissions, orient='index', columns=['Emissions %'])\n",
    "current_emissions = current_emissions.rename_axis('Subnet')"
   ]
  },
  {
   "cell_type": "code",
   "execution_count": 5,
   "metadata": {},
   "outputs": [],
   "source": [
    "# emissions 7 days ago\n",
    "# je dois aller chercher le dernier bloc et enlever 7 * 7200 = 50 400 blocks\n",
    "\n",
    "emissions_7daysago = {}\n",
    "block_7daysago = block - 7200*7\n",
    "for i in range(0, 35):\n",
    "    emission = subtensor.get_emission_value_by_subnet(i, block_7daysago)\n",
    "    emissions_7daysago[i] = float(emission)*100\n",
    "\n",
    "emissions_7daysago = pd.DataFrame.from_dict(emissions_7daysago, orient='index', columns=['Past Emissions %'])\n",
    "emissions_7daysago = emissions_7daysago.rename_axis('Subnet')\n",
    "emissions_df = pd.concat([current_emissions, emissions_7daysago], axis=1)"
   ]
  },
  {
   "cell_type": "code",
   "execution_count": 6,
   "metadata": {},
   "outputs": [],
   "source": [
    "# Change in rank\n",
    "current_emissions_ranked = current_emissions\n",
    "emissions_7daysago_ranked = emissions_7daysago\n",
    "current_emissions_ranked = current_emissions_ranked.sort_values(by='Emissions %', ascending=False)\n",
    "emissions_7daysago_ranked = emissions_7daysago_ranked.sort_values(by='Past Emissions %', ascending=False)\n",
    "current_emissions_ranked.reset_index(inplace=True)\n",
    "emissions_7daysago_ranked.reset_index(inplace=True)"
   ]
  },
  {
   "cell_type": "code",
   "execution_count": 7,
   "metadata": {},
   "outputs": [],
   "source": [
    "difference = {}\n",
    "for i in range(0, 35):\n",
    "    current_rank = current_emissions_ranked[current_emissions_ranked['Subnet'] == i].index.tolist()[0]\n",
    "    previous_rank = emissions_7daysago_ranked[emissions_7daysago_ranked['Subnet'] == i].index.tolist()[0]\n",
    "    difference[i] = previous_rank - current_rank\n",
    "\n",
    "difference_df = pd.DataFrame.from_dict(difference, orient='index', columns=['Difference'])\n",
    "difference_df = difference_df.rename_axis('Subnet')\n",
    "\n",
    "subnet_emissions = pd.concat([emissions_df, difference_df], axis=1)\n"
   ]
  },
  {
   "cell_type": "code",
   "execution_count": 8,
   "metadata": {},
   "outputs": [
    {
     "name": "stdout",
     "output_type": "stream",
     "text": [
      "99.9796739\n"
     ]
    }
   ],
   "source": [
    "sum = subnet_emissions['Emissions %'].sum()\n",
    "print(sum)"
   ]
  },
  {
   "cell_type": "markdown",
   "metadata": {},
   "source": [
    "### Validators"
   ]
  },
  {
   "cell_type": "markdown",
   "metadata": {},
   "source": [
    "Do we want a ranking of all the validators or only the root network ones ? <br>\n",
    "What should we rank them with, vtrust or net return ? -> People don't care about vtrusts, only about the % returns of validators so they know where to stake\n",
    "\n",
    "##### Method by validator\n",
    "1. Get top 64 validators hotkeys from the rootnetwork metagraph\n",
    "2. Look in every subnet and add how much they earn from each one/day (subnetEmissions * 0.41* dividends*7200)\n",
    "3. Make the ranking"
   ]
  },
  {
   "cell_type": "code",
   "execution_count": 9,
   "metadata": {},
   "outputs": [
    {
     "name": "stdout",
     "output_type": "stream",
     "text": [
      "2024-06-06 18:43:22.892 |     WARNING      |  - We strongly encourage running a local subtensor node whenever possible. This increases decentralization and resilience of the network. - \n",
      "2024-06-06 18:43:22.893 |     WARNING      |  - In a future release, local subtensor will become the default endpoint. To get ahead of this change, please run a local subtensor node and point to it. - \n"
     ]
    }
   ],
   "source": [
    "root_metagraph = bt.metagraph(netuid=0)"
   ]
  },
  {
   "cell_type": "code",
   "execution_count": 10,
   "metadata": {},
   "outputs": [],
   "source": [
    "# get top 64 validators hotkeys\n",
    "top_validators = root_metagraph.neurons\n",
    "df = pd.DataFrame(top_validators)\n",
    "top_validators_hotkeys = df.hotkey"
   ]
  },
  {
   "cell_type": "code",
   "execution_count": 11,
   "metadata": {},
   "outputs": [
    {
     "name": "stdout",
     "output_type": "stream",
     "text": [
      "2024-06-06 18:43:33.834 |     WARNING      |  - We strongly encourage running a local subtensor node whenever possible. This increases decentralization and resilience of the network. - \n",
      "2024-06-06 18:43:33.834 |     WARNING      |  - In a future release, local subtensor will become the default endpoint. To get ahead of this change, please run a local subtensor node and point to it. - \n",
      "2024-06-06 18:43:47.371 |     WARNING      |  - We strongly encourage running a local subtensor node whenever possible. This increases decentralization and resilience of the network. - \n",
      "2024-06-06 18:43:47.371 |     WARNING      |  - In a future release, local subtensor will become the default endpoint. To get ahead of this change, please run a local subtensor node and point to it. - \n",
      "2024-06-06 18:43:59.379 |     WARNING      |  - We strongly encourage running a local subtensor node whenever possible. This increases decentralization and resilience of the network. - \n",
      "2024-06-06 18:43:59.379 |     WARNING      |  - In a future release, local subtensor will become the default endpoint. To get ahead of this change, please run a local subtensor node and point to it. - \n",
      "2024-06-06 18:44:13.939 |     WARNING      |  - We strongly encourage running a local subtensor node whenever possible. This increases decentralization and resilience of the network. - \n",
      "2024-06-06 18:44:13.939 |     WARNING      |  - In a future release, local subtensor will become the default endpoint. To get ahead of this change, please run a local subtensor node and point to it. - \n",
      "2024-06-06 18:44:26.470 |     WARNING      |  - We strongly encourage running a local subtensor node whenever possible. This increases decentralization and resilience of the network. - \n",
      "2024-06-06 18:44:26.470 |     WARNING      |  - In a future release, local subtensor will become the default endpoint. To get ahead of this change, please run a local subtensor node and point to it. - \n",
      "2024-06-06 18:44:39.834 |     WARNING      |  - We strongly encourage running a local subtensor node whenever possible. This increases decentralization and resilience of the network. - \n",
      "2024-06-06 18:44:39.834 |     WARNING      |  - In a future release, local subtensor will become the default endpoint. To get ahead of this change, please run a local subtensor node and point to it. - \n",
      "2024-06-06 18:44:45.601 |     WARNING      |  - We strongly encourage running a local subtensor node whenever possible. This increases decentralization and resilience of the network. - \n",
      "2024-06-06 18:44:45.601 |     WARNING      |  - In a future release, local subtensor will become the default endpoint. To get ahead of this change, please run a local subtensor node and point to it. - \n",
      "2024-06-06 18:44:56.602 |     WARNING      |  - We strongly encourage running a local subtensor node whenever possible. This increases decentralization and resilience of the network. - \n",
      "2024-06-06 18:44:56.602 |     WARNING      |  - In a future release, local subtensor will become the default endpoint. To get ahead of this change, please run a local subtensor node and point to it. - \n",
      "2024-06-06 18:45:08.647 |     WARNING      |  - We strongly encourage running a local subtensor node whenever possible. This increases decentralization and resilience of the network. - \n",
      "2024-06-06 18:45:08.647 |     WARNING      |  - In a future release, local subtensor will become the default endpoint. To get ahead of this change, please run a local subtensor node and point to it. - \n",
      "2024-06-06 18:45:19.902 |     WARNING      |  - We strongly encourage running a local subtensor node whenever possible. This increases decentralization and resilience of the network. - \n",
      "2024-06-06 18:45:19.902 |     WARNING      |  - In a future release, local subtensor will become the default endpoint. To get ahead of this change, please run a local subtensor node and point to it. - \n",
      "2024-06-06 18:45:33.386 |     WARNING      |  - We strongly encourage running a local subtensor node whenever possible. This increases decentralization and resilience of the network. - \n",
      "2024-06-06 18:45:33.386 |     WARNING      |  - In a future release, local subtensor will become the default endpoint. To get ahead of this change, please run a local subtensor node and point to it. - \n",
      "2024-06-06 18:45:42.748 |     WARNING      |  - We strongly encourage running a local subtensor node whenever possible. This increases decentralization and resilience of the network. - \n",
      "2024-06-06 18:45:42.748 |     WARNING      |  - In a future release, local subtensor will become the default endpoint. To get ahead of this change, please run a local subtensor node and point to it. - \n",
      "2024-06-06 18:45:58.135 |     WARNING      |  - We strongly encourage running a local subtensor node whenever possible. This increases decentralization and resilience of the network. - \n",
      "2024-06-06 18:45:58.135 |     WARNING      |  - In a future release, local subtensor will become the default endpoint. To get ahead of this change, please run a local subtensor node and point to it. - \n",
      "2024-06-06 18:46:13.116 |     WARNING      |  - We strongly encourage running a local subtensor node whenever possible. This increases decentralization and resilience of the network. - \n",
      "2024-06-06 18:46:13.116 |     WARNING      |  - In a future release, local subtensor will become the default endpoint. To get ahead of this change, please run a local subtensor node and point to it. - \n",
      "2024-06-06 18:46:25.012 |     WARNING      |  - We strongly encourage running a local subtensor node whenever possible. This increases decentralization and resilience of the network. - \n",
      "2024-06-06 18:46:25.012 |     WARNING      |  - In a future release, local subtensor will become the default endpoint. To get ahead of this change, please run a local subtensor node and point to it. - \n",
      "2024-06-06 18:46:37.573 |     WARNING      |  - We strongly encourage running a local subtensor node whenever possible. This increases decentralization and resilience of the network. - \n",
      "2024-06-06 18:46:37.573 |     WARNING      |  - In a future release, local subtensor will become the default endpoint. To get ahead of this change, please run a local subtensor node and point to it. - \n",
      "2024-06-06 18:46:45.062 |     WARNING      |  - We strongly encourage running a local subtensor node whenever possible. This increases decentralization and resilience of the network. - \n",
      "2024-06-06 18:46:45.062 |     WARNING      |  - In a future release, local subtensor will become the default endpoint. To get ahead of this change, please run a local subtensor node and point to it. - \n",
      "2024-06-06 18:46:56.435 |     WARNING      |  - We strongly encourage running a local subtensor node whenever possible. This increases decentralization and resilience of the network. - \n",
      "2024-06-06 18:46:56.435 |     WARNING      |  - In a future release, local subtensor will become the default endpoint. To get ahead of this change, please run a local subtensor node and point to it. - \n",
      "2024-06-06 18:47:08.317 |     WARNING      |  - We strongly encourage running a local subtensor node whenever possible. This increases decentralization and resilience of the network. - \n",
      "2024-06-06 18:47:08.317 |     WARNING      |  - In a future release, local subtensor will become the default endpoint. To get ahead of this change, please run a local subtensor node and point to it. - \n",
      "2024-06-06 18:47:19.290 |     WARNING      |  - We strongly encourage running a local subtensor node whenever possible. This increases decentralization and resilience of the network. - \n",
      "2024-06-06 18:47:19.290 |     WARNING      |  - In a future release, local subtensor will become the default endpoint. To get ahead of this change, please run a local subtensor node and point to it. - \n",
      "2024-06-06 18:47:30.583 |     WARNING      |  - We strongly encourage running a local subtensor node whenever possible. This increases decentralization and resilience of the network. - \n",
      "2024-06-06 18:47:30.583 |     WARNING      |  - In a future release, local subtensor will become the default endpoint. To get ahead of this change, please run a local subtensor node and point to it. - \n",
      "2024-06-06 18:47:43.262 |     WARNING      |  - We strongly encourage running a local subtensor node whenever possible. This increases decentralization and resilience of the network. - \n",
      "2024-06-06 18:47:43.262 |     WARNING      |  - In a future release, local subtensor will become the default endpoint. To get ahead of this change, please run a local subtensor node and point to it. - \n",
      "2024-06-06 18:47:55.738 |     WARNING      |  - We strongly encourage running a local subtensor node whenever possible. This increases decentralization and resilience of the network. - \n",
      "2024-06-06 18:47:55.738 |     WARNING      |  - In a future release, local subtensor will become the default endpoint. To get ahead of this change, please run a local subtensor node and point to it. - \n",
      "2024-06-06 18:48:12.825 |     WARNING      |  - We strongly encourage running a local subtensor node whenever possible. This increases decentralization and resilience of the network. - \n",
      "2024-06-06 18:48:12.825 |     WARNING      |  - In a future release, local subtensor will become the default endpoint. To get ahead of this change, please run a local subtensor node and point to it. - \n",
      "2024-06-06 18:48:25.846 |     WARNING      |  - We strongly encourage running a local subtensor node whenever possible. This increases decentralization and resilience of the network. - \n",
      "2024-06-06 18:48:25.846 |     WARNING      |  - In a future release, local subtensor will become the default endpoint. To get ahead of this change, please run a local subtensor node and point to it. - \n",
      "2024-06-06 18:48:38.842 |     WARNING      |  - We strongly encourage running a local subtensor node whenever possible. This increases decentralization and resilience of the network. - \n",
      "2024-06-06 18:48:38.842 |     WARNING      |  - In a future release, local subtensor will become the default endpoint. To get ahead of this change, please run a local subtensor node and point to it. - \n",
      "2024-06-06 18:48:52.984 |     WARNING      |  - We strongly encourage running a local subtensor node whenever possible. This increases decentralization and resilience of the network. - \n",
      "2024-06-06 18:48:52.984 |     WARNING      |  - In a future release, local subtensor will become the default endpoint. To get ahead of this change, please run a local subtensor node and point to it. - \n",
      "2024-06-06 18:49:08.332 |     WARNING      |  - We strongly encourage running a local subtensor node whenever possible. This increases decentralization and resilience of the network. - \n",
      "2024-06-06 18:49:08.332 |     WARNING      |  - In a future release, local subtensor will become the default endpoint. To get ahead of this change, please run a local subtensor node and point to it. - \n",
      "2024-06-06 18:49:21.931 |     WARNING      |  - We strongly encourage running a local subtensor node whenever possible. This increases decentralization and resilience of the network. - \n",
      "2024-06-06 18:49:21.932 |     WARNING      |  - In a future release, local subtensor will become the default endpoint. To get ahead of this change, please run a local subtensor node and point to it. - \n",
      "2024-06-06 18:49:29.302 |     WARNING      |  - We strongly encourage running a local subtensor node whenever possible. This increases decentralization and resilience of the network. - \n",
      "2024-06-06 18:49:29.302 |     WARNING      |  - In a future release, local subtensor will become the default endpoint. To get ahead of this change, please run a local subtensor node and point to it. - \n",
      "2024-06-06 18:49:42.232 |     WARNING      |  - We strongly encourage running a local subtensor node whenever possible. This increases decentralization and resilience of the network. - \n",
      "2024-06-06 18:49:42.233 |     WARNING      |  - In a future release, local subtensor will become the default endpoint. To get ahead of this change, please run a local subtensor node and point to it. - \n",
      "2024-06-06 18:49:54.301 |     WARNING      |  - We strongly encourage running a local subtensor node whenever possible. This increases decentralization and resilience of the network. - \n",
      "2024-06-06 18:49:54.301 |     WARNING      |  - In a future release, local subtensor will become the default endpoint. To get ahead of this change, please run a local subtensor node and point to it. - \n",
      "2024-06-06 18:50:07.710 |     WARNING      |  - We strongly encourage running a local subtensor node whenever possible. This increases decentralization and resilience of the network. - \n",
      "2024-06-06 18:50:07.710 |     WARNING      |  - In a future release, local subtensor will become the default endpoint. To get ahead of this change, please run a local subtensor node and point to it. - \n"
     ]
    }
   ],
   "source": [
    "# current APR\n",
    "daily_payout = {key: 0 for key in top_validators_hotkeys}\n",
    "for i in range(1, 34):\n",
    "    metagraph = bt.metagraph(i)\n",
    "    emissions = float(subtensor.get_emission_value_by_subnet(i, block))\n",
    "    neurons = pd.DataFrame(metagraph.neurons)\n",
    "    # print(neurons)\n",
    "    for val in top_validators_hotkeys:\n",
    "        if val in neurons.hotkey.tolist():\n",
    "            dividends = neurons.loc[neurons['hotkey'] == val, 'dividends'].iloc[0]\n",
    "            daily_payout[val] += dividends * emissions * 0.41 * 7200\n",
    "        else:\n",
    "            daily_payout[val] += 0\n",
    "    # print(daily_payout)"
   ]
  },
  {
   "cell_type": "code",
   "execution_count": 12,
   "metadata": {},
   "outputs": [],
   "source": [
    "validators_df = pd.DataFrame(daily_payout, index=[0]).T\n",
    "validators_df = validators_df.rename(columns={0: 'daily reward'})\n",
    "validators_df = validators_df.rename_axis('hotkey')"
   ]
  },
  {
   "cell_type": "code",
   "execution_count": 13,
   "metadata": {},
   "outputs": [],
   "source": [
    "stake_df = df[['hotkey', 'total_stake']].set_index('hotkey')\n",
    "stake_df['total_stake'] = [float(element) for element in stake_df.total_stake.tolist()]"
   ]
  },
  {
   "cell_type": "code",
   "execution_count": 14,
   "metadata": {},
   "outputs": [],
   "source": [
    "validators_df = validators_df.join(stake_df)"
   ]
  },
  {
   "cell_type": "code",
   "execution_count": 15,
   "metadata": {},
   "outputs": [],
   "source": [
    "validators_df['APR'] = ((validators_df['daily reward'] * 365) / validators_df['total_stake']) * 100"
   ]
  },
  {
   "cell_type": "code",
   "execution_count": 16,
   "metadata": {},
   "outputs": [],
   "source": [
    "validators_df['stake share'] = (validators_df['total_stake'] / validators_df['total_stake'].sum())*100"
   ]
  },
  {
   "cell_type": "code",
   "execution_count": 17,
   "metadata": {},
   "outputs": [],
   "source": [
    "# mise en page pour google sheet\n",
    "validators_df = validators_df[validators_df['APR'] > 15].sort_values('APR', ascending=False)\n",
    "validators_df = validators_df.round(2)\n",
    "validators_df = validators_df.drop(columns=['daily reward', 'total_stake'])"
   ]
  },
  {
   "cell_type": "markdown",
   "metadata": {},
   "source": [
    "### Download to CSV"
   ]
  },
  {
   "cell_type": "code",
   "execution_count": 18,
   "metadata": {},
   "outputs": [
    {
     "data": {
      "text/html": [
       "<a href='validators_ranking_06_06.csv' target='_blank'>validators_ranking_06_06.csv</a><br>"
      ],
      "text/plain": [
       "/Users/gustave/Desktop/crypto/programming/bittensor/network-analysis/rankings/validators_ranking_06_06.csv"
      ]
     },
     "execution_count": 18,
     "metadata": {},
     "output_type": "execute_result"
    }
   ],
   "source": [
    "# don't forget to change the name !!\n",
    "from IPython.display import FileLink\n",
    "validators_df.to_csv('validators_ranking_06_06.csv', index=True)\n",
    "FileLink('validators_ranking_06_06.csv')"
   ]
  }
 ],
 "metadata": {
  "kernelspec": {
   "display_name": "bittensor",
   "language": "python",
   "name": "python3"
  },
  "language_info": {
   "codemirror_mode": {
    "name": "ipython",
    "version": 3
   },
   "file_extension": ".py",
   "mimetype": "text/x-python",
   "name": "python",
   "nbconvert_exporter": "python",
   "pygments_lexer": "ipython3",
   "version": "3.10.10"
  }
 },
 "nbformat": 4,
 "nbformat_minor": 2
}
