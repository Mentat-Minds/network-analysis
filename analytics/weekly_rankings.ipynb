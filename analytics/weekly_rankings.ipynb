{
 "cells": [
  {
   "cell_type": "markdown",
   "metadata": {},
   "source": [
    "# Weekly ranking for newsletter\n",
    "\n",
    "**Goal**: get the weekly emission rankings of \n",
    "- subnets\n",
    "- validators"
   ]
  },
  {
   "cell_type": "code",
   "execution_count": 30,
   "metadata": {},
   "outputs": [
    {
     "name": "stdout",
     "output_type": "stream",
     "text": [
      "\u001b[34m2024-04-24 17:55:53.412\u001b[0m | \u001b[1m      INFO      \u001b[0m | Connected to archive network and wss://archive.chain.opentensor.ai:443/.\n"
     ]
    }
   ],
   "source": [
    "import pandas as pd\n",
    "import bittensor as bt\n",
    "subtensor = bt.subtensor('archive')"
   ]
  },
  {
   "cell_type": "markdown",
   "metadata": {},
   "source": [
    "### Subnets"
   ]
  },
  {
   "cell_type": "code",
   "execution_count": 37,
   "metadata": {},
   "outputs": [],
   "source": [
    "# live_emissions\n",
    "current_emissions = {}\n",
    "for i in range(1, 33):\n",
    "    emission = subtensor.get_emission_value_by_subnet(i)\n",
    "    current_emissions[i] = float(emission)*100\n",
    "\n",
    "current_emissions = pd.DataFrame.from_dict(current_emissions, orient='index', columns=['Emissions %'])\n",
    "current_emissions = current_emissions.rename_axis('Subnet')"
   ]
  },
  {
   "cell_type": "code",
   "execution_count": 38,
   "metadata": {},
   "outputs": [],
   "source": [
    "# emissions 7 days ago\n",
    "# je dois aller chercher le dernier bloc et enlever 7 * 7200 = 50 400 blocks\n",
    "emissions_7daysago = {}\n",
    "for i in range(1, 33):\n",
    "    emission = subtensor.get_emission_value_by_subnet(i, 2768078)\n",
    "    emissions_7daysago[i] = float(emission)*100\n",
    "\n",
    "emissions_7daysago = pd.DataFrame.from_dict(emissions_7daysago, orient='index', columns=['Emissions %'])\n",
    "emissions_7daysago = emissions_7daysago.rename_axis('Subnet')"
   ]
  },
  {
   "cell_type": "markdown",
   "metadata": {},
   "source": [
    "### Validators"
   ]
  },
  {
   "cell_type": "markdown",
   "metadata": {},
   "source": [
    "Do we want a ranking of all the validators or only the root network ones ? <br>\n",
    "What should we rank them with, vtrust or net return ? -> People don't care about vtrusts, only about the % returns of validators so they know where to stake\n",
    "\n",
    "##### Method by validator\n",
    "1. Get top 64 validators hotkeys from the rootnetwork metagraph\n",
    "2. Look in every subnet and add how much they earn from each one/day (subnetEmissions * 0.41* dividends*7200)\n",
    "3. Make the ranking"
   ]
  },
  {
   "cell_type": "code",
   "execution_count": 47,
   "metadata": {},
   "outputs": [
    {
     "name": "stdout",
     "output_type": "stream",
     "text": [
      "\u001b[34m2024-04-25 15:58:44.581\u001b[0m | \u001b[1m      INFO      \u001b[0m | You are connecting to finney network with endpoint wss://entrypoint-finney.opentensor.ai:443.\n",
      "\u001b[34m2024-04-25 15:58:44.591\u001b[0m | \u001b[33m\u001b[1m    WARNING     \u001b[0m | We strongly encourage running a local subtensor node whenever possible. This increases decentralization and resilience of the network.\n",
      "\u001b[34m2024-04-25 15:58:44.593\u001b[0m | \u001b[33m\u001b[1m    WARNING     \u001b[0m | In a future release, local subtensor will become the default endpoint. To get ahead of this change, please run a local subtensor node and point to it.\n",
      "\u001b[34m2024-04-25 15:58:45.866\u001b[0m | \u001b[1m      INFO      \u001b[0m | Connected to finney network and wss://entrypoint-finney.opentensor.ai:443.\n"
     ]
    }
   ],
   "source": [
    "root_metagraph = bt.metagraph(netuid=0)"
   ]
  },
  {
   "cell_type": "code",
   "execution_count": 52,
   "metadata": {},
   "outputs": [],
   "source": [
    "# get top 64 validators hotkeys\n",
    "top_validators = root_metagraph.neurons\n",
    "df = pd.DataFrame(top_validators)\n",
    "top_validators_hotkeys = df.hotkey"
   ]
  },
  {
   "cell_type": "code",
   "execution_count": 61,
   "metadata": {},
   "outputs": [
    {
     "name": "stdout",
     "output_type": "stream",
     "text": [
      "\u001b[34m2024-04-25 16:29:01.062\u001b[0m | \u001b[1m      INFO      \u001b[0m | You are connecting to finney network with endpoint wss://entrypoint-finney.opentensor.ai:443.\n",
      "\u001b[34m2024-04-25 16:29:01.070\u001b[0m | \u001b[33m\u001b[1m    WARNING     \u001b[0m | We strongly encourage running a local subtensor node whenever possible. This increases decentralization and resilience of the network.\n",
      "\u001b[34m2024-04-25 16:29:01.070\u001b[0m | \u001b[33m\u001b[1m    WARNING     \u001b[0m | In a future release, local subtensor will become the default endpoint. To get ahead of this change, please run a local subtensor node and point to it.\n",
      "\u001b[34m2024-04-25 16:29:02.120\u001b[0m | \u001b[1m      INFO      \u001b[0m | Connected to finney network and wss://entrypoint-finney.opentensor.ai:443.\n"
     ]
    }
   ],
   "source": [
    "metagraph = bt.metagraph(1)\n",
    "neurons = pd.DataFrame(metagraph.neurons)"
   ]
  },
  {
   "cell_type": "code",
   "execution_count": 71,
   "metadata": {},
   "outputs": [
    {
     "name": "stdout",
     "output_type": "stream",
     "text": [
      "0.05482566567483024\n"
     ]
    }
   ],
   "source": [
    "val = top_validators_hotkeys[3]\n",
    "if val in neurons.hotkey.tolist():\n",
    "    dividend = neurons.loc[neurons['hotkey'] == val, 'dividends'].iloc[0]\n",
    "else:\n",
    "    dividend = 0\n",
    "print(dividend)"
   ]
  },
  {
   "cell_type": "code",
   "execution_count": 92,
   "metadata": {},
   "outputs": [
    {
     "name": "stdout",
     "output_type": "stream",
     "text": [
      "\u001b[34m2024-04-25 17:21:48.214\u001b[0m | \u001b[1m      INFO      \u001b[0m | You are connecting to finney network with endpoint wss://entrypoint-finney.opentensor.ai:443.\n",
      "\u001b[34m2024-04-25 17:21:48.218\u001b[0m | \u001b[33m\u001b[1m    WARNING     \u001b[0m | We strongly encourage running a local subtensor node whenever possible. This increases decentralization and resilience of the network.\n",
      "\u001b[34m2024-04-25 17:21:48.218\u001b[0m | \u001b[33m\u001b[1m    WARNING     \u001b[0m | In a future release, local subtensor will become the default endpoint. To get ahead of this change, please run a local subtensor node and point to it.\n",
      "\u001b[34m2024-04-25 17:21:49.032\u001b[0m | \u001b[1m      INFO      \u001b[0m | Connected to finney network and wss://entrypoint-finney.opentensor.ai:443.\n",
      "{'5CaCUPsSSdKWcMJbmdmJdnWVa15fJQuz5HsSGgVdZffpHAUa': 0, '5E7v9fjMkA1rSchQiaz9gX1vg62fFz8HrAVipkzpmo1ZRsgG': 0.6593076265939116, '5F4tQyWrhfGVcNhoqeiNsR6KjD4wMZ2kfhLj4oHYuyHbZAc3': 38.40590854914534, '5FFApaS75bv5pJHfAp2FVLBj9ZaXuFDjEypsaBNc1wCfe52v': 8.895695758817853, '5HK5tp6t2S59DywmHRWPBVJeJ86T61KjurYqeooqj8sREpeN': 12.82923411748153, '5CXRfP2ekFhe62r7q3vppRajJmGhTi7vwvb2yr79jveZ282w': 4.164048167961547, '5Hddm3iBFD2GLT5ik7LZnT3XJUnRnN8PoeCFgGQgawUVKNm8': 19.637948592118654, '5G1NjW9YhXLadMWajvTkfcJy6up3yH2q1YzMXDTi6ijanChe': 3.219701529870268, '5CVS9d1NcQyWKUyadLevwGxg6LgBcF9Lik6NSnbe5q59jwhE': 0.8402454338922407, '5FxgfWWL6i6AJQV7HmMghycad2dQWrWE2b6JiuwqDp11iW4C': 0, '5GpFa5Vf9DAPMZdmeLQxhEKyJPECZ32WGQoh5hPuPYpXdRPp': 0, '5FyQwqvALREfXVLLN3LEvtBPzqGhqNtxQqoHjHFatneejmWr': 0, '5HimZN7Espe8qAcm7ngydeSvTQ5ofatMzTBTtR5oqpQCEbWx': 0, '5GsL9zNp1CdKmKSYBGjeF9kGReRpS8KdQv2yJ3mHVwKq2YCq': 0.7460586300931106, '5H9XxRFAW2KHnN94qzCGMyEs6Bi4pTiatW9LcwGmtJp42Vaq': 0, '5CsvRJXuR955WojnGMdok1hbhffZyB4N5ocrv82f3p5A2zVp': 3.517133541867521, '5E2MF7htsXr4dXdoJS5yTUmfLp6LMkr13S3EdR4mUzokyH7o': 0, '5EhvL1FVkQPpMjZX4MAADcW42i3xPSF1KiCpuaxTYVr28sux': 11.136350249197163, '5Ehv5XMriPZwNBtYHdQV7VrdbN8MBTDTmQhWprZJXxSiMapR': 0, '5CPzGD8sxyv8fKKXNvKem4qJRhCXABRmpUgC1wb1V4YAXLc3': 0, '5HEo565WAy4Dbq3Sv271SAi7syBSofyfhhwRNjFNSM2gP9M2': 15.62757363035569, '5FudZjGkVH2cF9MssgLrpf6S4QUBodpZCvekFzTTMV1nU64p': 0, '5DvTpiniW9s3APmHRYn8FroUWyfnLtrsid5Mtn5EwMXHN2ed': 8.300831734823346, '5ChnhYk5ZU931JHBbvmidQPEzNTtic9ktybVdhQVSUvxjDrH': 0, '5D7thQ8XUCLMm58BxF75PTvMsyGbLC93T61RACqTmKLt49A7': 0, '5FRCV1jBJDCmcBptN2mmskR9GGbcJsAF2ThQZRgo2TAEY5XY': 0, '5EEsQ8iWiEmuoVL312QyHTsq3gNF3xKQEcPQvXctxPyYQKZQ': 0, '5H6BgKkAr2Anmm9Xw5BVDE4VaQmFEVMkJUHeT7Gki4J7yF4x': 0, '5Guiz2PGHgAVatda1maoNR5wp4Ug3yfmJgQqcjJR71sY8bVu': 0, '5D2wzCtQWgmDyhBYESFekn6bDJf5sKiA1TRukVJBxCsvBDPU': 0, '5FFM6Nvvm78GqyMratgXXvjbqZPi7SHgSQ81nyS96jBuUWgt': 1.2120354488888074, '5Fq5v71D4LX8Db1xsmRSy6udQThcZ8sFDqxQFwnUZ1BuqY5A': 0.9294750374914168, '5ED6jwDECEmNvSp98R2qyEUPHDv9pi14E6n3TS8CicD6YfhL': 0, '5Dz8ShM6rtPw1GBAaqxjycT9LF1TC3iDpzpUH9gKr85Nizo6': 0, '5Gpt8XWFTXmKrRF1qaxcBQLvnPLpKi6Pt2XC4vVQR7gqNKtU': 0, '5GEhaAtDuZYpwnsbAp9bxoTNY66twFLhDJmfMPoDn7j5uxh1': 0, '5FLKnbMjHY8LarHZvk2q2RY9drWFbpxjAcR5x8tjr3GqtU6F': 0, '5DJkF3jefz34oignHqQhKo929hEtHTQXehz1FqEGtjj5M9nU': 0, '5G97EmddSQHk1sJtozzhm6a4Ez98wzFtPfVkofWaqrLy2ngD': 0, '5HBvt2r539i34YhdJnmQS9Z83zgztPF9zrdDdJcWYpYm8oN6': 0, '5C88zLBbob1g3p76ierkQAzLTbJCR1HqugaZKyzqU6r2Q12y': 0, '5HNQURvmjjYhTSksi8Wfsw676b4owGwfLR2BFAQzG7H3HhYf': 1.221949849288716, '5CXC2quDN5nUTqHMkpP5YRp2atYYicvtUghAYLj15gaUFwe5': 0, '5FcXnzNo3mrqReTEY4ftkg5iXRBi61iyvM4W1bywZLRqfxAY': 0, '5FBvGUf3FhJfzLnDKwHCVqtycVzuK4uLqmx1dyYd4xFpP8Th': 0, '5Cg5w3WJv7Gh34Am1tCDX96XNcJrcYRKfVwmgJYJCAqezbjz': 0, '5FPN3f3EP6zsBemJsMhL3zhTLqjoQnCBXfzro1uqKP4K7Lcy': 0, '5GcBK8PDrVifV1xAf4Qkkk6KsbsmhDdX9atvk8vyKU8xdU63': 0, '5HeKSHGdsRCwVgyrHchijnZJnq4wiv6GqoDLNah8R5WMfnLB': 0.49324141989544523, '5G3f8VDTT1ydirT3QffnV2TMrNMR2MkQfGUubQNqZcGSj82T': 0, '5ECvRLMj9jkbdM4sLuH5WvjUe87TcAdjRfUj5onN4iKqYYGm': 0, '5FqPJMZDp39KRd9jDhXuFpZWkYD7wG5AXmjoWqK8rDy7ok5B': 0, '5FLTX2dk4VFRy7RNPeWcL5YRQ3XTx8zDNSzHeRjP6XkE8L1v': 0, '5EpxBYq4aVgTQ1rYeBo2mzYt3hgpRTqxZTSsJEkCstBP5Jse': 0, '5EWKNzbqjs7YmXT5ZsHnrv9wQkGzL29mYgV3vEBX8RK4db5q': 0, '5HbLYXUBy1snPR8nfioQ7GoA9x76EELzEq9j7F32vWUQHm1x': 5.504970822049164, '5F9Ga7d5ieV8jpoKJi9AQ2Cxh6JmsdQ5M5Eo8EpfEnMLUtYn': 0, '5DnXm2tBGAD57ySJv5SfpTfLcsQbSKKp6xZKFWABw3cYUgqg': 0.5626422226948042, '5HbScNssaEfioJHXjcXdpyqo1AKnYjymidGF8opcF9rTFZdT': 1.4846814598862896, '5DJGBzzPH9num5eGwbEiYFM1GEh3qGHkG2HK4ZeUtoSaU9Bb': 0, '5EFiiNVJMuSBYP7JaQVdcBGa2bdtLbcUSsYjrxtk2rWJh1Wo': 0, '5FKstHjZkh4v3qAMSBa1oJcHCLjxYZ8SNTSz1opTv4hR7gVB': 0.9344322376913712, '5E2VSsWWXkBGCn4mi8RHXYQEF2wLXky6ZsNcTKnmEqaurzTE': 0, '5EnZUXKv4E4DFxJgJJbCqe4nqRqFHySKFs4hfL7jmyeGpZKb': 0}\n",
      "\u001b[34m2024-04-25 17:22:08.997\u001b[0m | \u001b[1m      INFO      \u001b[0m | You are connecting to finney network with endpoint wss://entrypoint-finney.opentensor.ai:443.\n",
      "\u001b[34m2024-04-25 17:22:08.997\u001b[0m | \u001b[33m\u001b[1m    WARNING     \u001b[0m | We strongly encourage running a local subtensor node whenever possible. This increases decentralization and resilience of the network.\n",
      "\u001b[34m2024-04-25 17:22:08.997\u001b[0m | \u001b[33m\u001b[1m    WARNING     \u001b[0m | In a future release, local subtensor will become the default endpoint. To get ahead of this change, please run a local subtensor node and point to it.\n",
      "\u001b[34m2024-04-25 17:22:09.682\u001b[0m | \u001b[1m      INFO      \u001b[0m | Connected to finney network and wss://entrypoint-finney.opentensor.ai:443.\n",
      "{'5CaCUPsSSdKWcMJbmdmJdnWVa15fJQuz5HsSGgVdZffpHAUa': 0, '5E7v9fjMkA1rSchQiaz9gX1vg62fFz8HrAVipkzpmo1ZRsgG': 0.6593076265939116, '5F4tQyWrhfGVcNhoqeiNsR6KjD4wMZ2kfhLj4oHYuyHbZAc3': 64.88663198415162, '5FFApaS75bv5pJHfAp2FVLBj9ZaXuFDjEypsaBNc1wCfe52v': 15.393273513507712, '5HK5tp6t2S59DywmHRWPBVJeJ86T61KjurYqeooqj8sREpeN': 22.077453121656763, '5CXRfP2ekFhe62r7q3vppRajJmGhTi7vwvb2yr79jveZ282w': 7.09259928453962, '5Hddm3iBFD2GLT5ik7LZnT3XJUnRnN8PoeCFgGQgawUVKNm8': 33.558235410380405, '5G1NjW9YhXLadMWajvTkfcJy6up3yH2q1YzMXDTi6ijanChe': 3.80293648546981, '5CVS9d1NcQyWKUyadLevwGxg6LgBcF9Lik6NSnbe5q59jwhE': 1.395633627685969, '5FxgfWWL6i6AJQV7HmMghycad2dQWrWE2b6JiuwqDp11iW4C': 0, '5GpFa5Vf9DAPMZdmeLQxhEKyJPECZ32WGQoh5hPuPYpXdRPp': 0, '5FyQwqvALREfXVLLN3LEvtBPzqGhqNtxQqoHjHFatneejmWr': 0, '5HimZN7Espe8qAcm7ngydeSvTQ5ofatMzTBTtR5oqpQCEbWx': 0, '5GsL9zNp1CdKmKSYBGjeF9kGReRpS8KdQv2yJ3mHVwKq2YCq': 0.7460586300931106, '5H9XxRFAW2KHnN94qzCGMyEs6Bi4pTiatW9LcwGmtJp42Vaq': 0, '5CsvRJXuR955WojnGMdok1hbhffZyB4N5ocrv82f3p5A2zVp': 5.891843506974411, '5E2MF7htsXr4dXdoJS5yTUmfLp6LMkr13S3EdR4mUzokyH7o': 0, '5EhvL1FVkQPpMjZX4MAADcW42i3xPSF1KiCpuaxTYVr28sux': 19.156217649271504, '5Ehv5XMriPZwNBtYHdQV7VrdbN8MBTDTmQhWprZJXxSiMapR': 0, '5CPzGD8sxyv8fKKXNvKem4qJRhCXABRmpUgC1wb1V4YAXLc3': 0, '5HEo565WAy4Dbq3Sv271SAi7syBSofyfhhwRNjFNSM2gP9M2': 26.472340311397573, '5FudZjGkVH2cF9MssgLrpf6S4QUBodpZCvekFzTTMV1nU64p': 0, '5DvTpiniW9s3APmHRYn8FroUWyfnLtrsid5Mtn5EwMXHN2ed': 14.366784681523095, '5ChnhYk5ZU931JHBbvmidQPEzNTtic9ktybVdhQVSUvxjDrH': 0, '5D7thQ8XUCLMm58BxF75PTvMsyGbLC93T61RACqTmKLt49A7': 0, '5FRCV1jBJDCmcBptN2mmskR9GGbcJsAF2ThQZRgo2TAEY5XY': 0, '5EEsQ8iWiEmuoVL312QyHTsq3gNF3xKQEcPQvXctxPyYQKZQ': 0, '5H6BgKkAr2Anmm9Xw5BVDE4VaQmFEVMkJUHeT7Gki4J7yF4x': 0, '5Guiz2PGHgAVatda1maoNR5wp4Ug3yfmJgQqcjJR71sY8bVu': 0, '5D2wzCtQWgmDyhBYESFekn6bDJf5sKiA1TRukVJBxCsvBDPU': 0, '5FFM6Nvvm78GqyMratgXXvjbqZPi7SHgSQ81nyS96jBuUWgt': 2.279494651444999, '5Fq5v71D4LX8Db1xsmRSy6udQThcZ8sFDqxQFwnUZ1BuqY5A': 0.9294750374914168, '5ED6jwDECEmNvSp98R2qyEUPHDv9pi14E6n3TS8CicD6YfhL': 0, '5Dz8ShM6rtPw1GBAaqxjycT9LF1TC3iDpzpUH9gKr85Nizo6': 0, '5Gpt8XWFTXmKrRF1qaxcBQLvnPLpKi6Pt2XC4vVQR7gqNKtU': 0, '5GEhaAtDuZYpwnsbAp9bxoTNY66twFLhDJmfMPoDn7j5uxh1': 0, '5FLKnbMjHY8LarHZvk2q2RY9drWFbpxjAcR5x8tjr3GqtU6F': 0, '5DJkF3jefz34oignHqQhKo929hEtHTQXehz1FqEGtjj5M9nU': 0, '5G97EmddSQHk1sJtozzhm6a4Ez98wzFtPfVkofWaqrLy2ngD': 0, '5HBvt2r539i34YhdJnmQS9Z83zgztPF9zrdDdJcWYpYm8oN6': 0, '5C88zLBbob1g3p76ierkQAzLTbJCR1HqugaZKyzqU6r2Q12y': 0, '5HNQURvmjjYhTSksi8Wfsw676b4owGwfLR2BFAQzG7H3HhYf': 2.0542586188180363, '5CXC2quDN5nUTqHMkpP5YRp2atYYicvtUghAYLj15gaUFwe5': 0, '5FcXnzNo3mrqReTEY4ftkg5iXRBi61iyvM4W1bywZLRqfxAY': 0, '5FBvGUf3FhJfzLnDKwHCVqtycVzuK4uLqmx1dyYd4xFpP8Th': 0, '5Cg5w3WJv7Gh34Am1tCDX96XNcJrcYRKfVwmgJYJCAqezbjz': 0, '5FPN3f3EP6zsBemJsMhL3zhTLqjoQnCBXfzro1uqKP4K7Lcy': 0, '5GcBK8PDrVifV1xAf4Qkkk6KsbsmhDdX9atvk8vyKU8xdU63': 0, '5HeKSHGdsRCwVgyrHchijnZJnq4wiv6GqoDLNah8R5WMfnLB': 0.49324141989544523, '5G3f8VDTT1ydirT3QffnV2TMrNMR2MkQfGUubQNqZcGSj82T': 0, '5ECvRLMj9jkbdM4sLuH5WvjUe87TcAdjRfUj5onN4iKqYYGm': 0, '5FqPJMZDp39KRd9jDhXuFpZWkYD7wG5AXmjoWqK8rDy7ok5B': 0, '5FLTX2dk4VFRy7RNPeWcL5YRQ3XTx8zDNSzHeRjP6XkE8L1v': 0, '5EpxBYq4aVgTQ1rYeBo2mzYt3hgpRTqxZTSsJEkCstBP5Jse': 0, '5EWKNzbqjs7YmXT5ZsHnrv9wQkGzL29mYgV3vEBX8RK4db5q': 0, '5HbLYXUBy1snPR8nfioQ7GoA9x76EELzEq9j7F32vWUQHm1x': 9.453022829184526, '5F9Ga7d5ieV8jpoKJi9AQ2Cxh6JmsdQ5M5Eo8EpfEnMLUtYn': 0, '5DnXm2tBGAD57ySJv5SfpTfLcsQbSKKp6xZKFWABw3cYUgqg': 1.164441686164889, '5HbScNssaEfioJHXjcXdpyqo1AKnYjymidGF8opcF9rTFZdT': 2.46860037702504, '5DJGBzzPH9num5eGwbEiYFM1GEh3qGHkG2HK4ZeUtoSaU9Bb': 0, '5EFiiNVJMuSBYP7JaQVdcBGa2bdtLbcUSsYjrxtk2rWJh1Wo': 0, '5FKstHjZkh4v3qAMSBa1oJcHCLjxYZ8SNTSz1opTv4hR7gVB': 1.596566351740719, '5E2VSsWWXkBGCn4mi8RHXYQEF2wLXky6ZsNcTKnmEqaurzTE': 0, '5EnZUXKv4E4DFxJgJJbCqe4nqRqFHySKFs4hfL7jmyeGpZKb': 0}\n",
      "\u001b[34m2024-04-25 17:22:44.545\u001b[0m | \u001b[1m      INFO      \u001b[0m | You are connecting to finney network with endpoint wss://entrypoint-finney.opentensor.ai:443.\n",
      "\u001b[34m2024-04-25 17:22:44.545\u001b[0m | \u001b[33m\u001b[1m    WARNING     \u001b[0m | We strongly encourage running a local subtensor node whenever possible. This increases decentralization and resilience of the network.\n",
      "\u001b[34m2024-04-25 17:22:44.545\u001b[0m | \u001b[33m\u001b[1m    WARNING     \u001b[0m | In a future release, local subtensor will become the default endpoint. To get ahead of this change, please run a local subtensor node and point to it.\n",
      "\u001b[34m2024-04-25 17:22:45.211\u001b[0m | \u001b[1m      INFO      \u001b[0m | Connected to finney network and wss://entrypoint-finney.opentensor.ai:443.\n",
      "{'5CaCUPsSSdKWcMJbmdmJdnWVa15fJQuz5HsSGgVdZffpHAUa': 0, '5E7v9fjMkA1rSchQiaz9gX1vg62fFz8HrAVipkzpmo1ZRsgG': 0.6593076265939116, '5F4tQyWrhfGVcNhoqeiNsR6KjD4wMZ2kfhLj4oHYuyHbZAc3': 79.75463659909948, '5FFApaS75bv5pJHfAp2FVLBj9ZaXuFDjEypsaBNc1wCfe52v': 18.671745119362782, '5HK5tp6t2S59DywmHRWPBVJeJ86T61KjurYqeooqj8sREpeN': 26.84321930680705, '5CXRfP2ekFhe62r7q3vppRajJmGhTi7vwvb2yr79jveZ282w': 8.630952703212635, '5Hddm3iBFD2GLT5ik7LZnT3XJUnRnN8PoeCFgGQgawUVKNm8': 40.89506121710304, '5G1NjW9YhXLadMWajvTkfcJy6up3yH2q1YzMXDTi6ijanChe': 5.207878098026642, '5CVS9d1NcQyWKUyadLevwGxg6LgBcF9Lik6NSnbe5q59jwhE': 1.71104549029398, '5FxgfWWL6i6AJQV7HmMghycad2dQWrWE2b6JiuwqDp11iW4C': 0, '5GpFa5Vf9DAPMZdmeLQxhEKyJPECZ32WGQoh5hPuPYpXdRPp': 0, '5FyQwqvALREfXVLLN3LEvtBPzqGhqNtxQqoHjHFatneejmWr': 0, '5HimZN7Espe8qAcm7ngydeSvTQ5ofatMzTBTtR5oqpQCEbWx': 0, '5GsL9zNp1CdKmKSYBGjeF9kGReRpS8KdQv2yJ3mHVwKq2YCq': 1.0342940136774548, '5H9XxRFAW2KHnN94qzCGMyEs6Bi4pTiatW9LcwGmtJp42Vaq': 0, '5CsvRJXuR955WojnGMdok1hbhffZyB4N5ocrv82f3p5A2zVp': 7.197961559445182, '5E2MF7htsXr4dXdoJS5yTUmfLp6LMkr13S3EdR4mUzokyH7o': 0, '5EhvL1FVkQPpMjZX4MAADcW42i3xPSF1KiCpuaxTYVr28sux': 22.068218553140763, '5Ehv5XMriPZwNBtYHdQV7VrdbN8MBTDTmQhWprZJXxSiMapR': 0, '5CPzGD8sxyv8fKKXNvKem4qJRhCXABRmpUgC1wb1V4YAXLc3': 0, '5HEo565WAy4Dbq3Sv271SAi7syBSofyfhhwRNjFNSM2gP9M2': 30.847753434207917, '5FudZjGkVH2cF9MssgLrpf6S4QUBodpZCvekFzTTMV1nU64p': 0, '5DvTpiniW9s3APmHRYn8FroUWyfnLtrsid5Mtn5EwMXHN2ed': 17.2153738010038, '5ChnhYk5ZU931JHBbvmidQPEzNTtic9ktybVdhQVSUvxjDrH': 0, '5D7thQ8XUCLMm58BxF75PTvMsyGbLC93T61RACqTmKLt49A7': 0, '5FRCV1jBJDCmcBptN2mmskR9GGbcJsAF2ThQZRgo2TAEY5XY': 0, '5EEsQ8iWiEmuoVL312QyHTsq3gNF3xKQEcPQvXctxPyYQKZQ': 0, '5H6BgKkAr2Anmm9Xw5BVDE4VaQmFEVMkJUHeT7Gki4J7yF4x': 0, '5Guiz2PGHgAVatda1maoNR5wp4Ug3yfmJgQqcjJR71sY8bVu': 0, '5D2wzCtQWgmDyhBYESFekn6bDJf5sKiA1TRukVJBxCsvBDPU': 0, '5FFM6Nvvm78GqyMratgXXvjbqZPi7SHgSQ81nyS96jBuUWgt': 2.6797300697935453, '5Fq5v71D4LX8Db1xsmRSy6udQThcZ8sFDqxQFwnUZ1BuqY5A': 1.2901810318055391, '5ED6jwDECEmNvSp98R2qyEUPHDv9pi14E6n3TS8CicD6YfhL': 0, '5Dz8ShM6rtPw1GBAaqxjycT9LF1TC3iDpzpUH9gKr85Nizo6': 0, '5Gpt8XWFTXmKrRF1qaxcBQLvnPLpKi6Pt2XC4vVQR7gqNKtU': 0, '5GEhaAtDuZYpwnsbAp9bxoTNY66twFLhDJmfMPoDn7j5uxh1': 0, '5FLKnbMjHY8LarHZvk2q2RY9drWFbpxjAcR5x8tjr3GqtU6F': 0, '5DJkF3jefz34oignHqQhKo929hEtHTQXehz1FqEGtjj5M9nU': 0, '5G97EmddSQHk1sJtozzhm6a4Ez98wzFtPfVkofWaqrLy2ngD': 0, '5HBvt2r539i34YhdJnmQS9Z83zgztPF9zrdDdJcWYpYm8oN6': 0, '5C88zLBbob1g3p76ierkQAzLTbJCR1HqugaZKyzqU6r2Q12y': 0, '5HNQURvmjjYhTSksi8Wfsw676b4owGwfLR2BFAQzG7H3HhYf': 2.330141057391623, '5CXC2quDN5nUTqHMkpP5YRp2atYYicvtUghAYLj15gaUFwe5': 0, '5FcXnzNo3mrqReTEY4ftkg5iXRBi61iyvM4W1bywZLRqfxAY': 0, '5FBvGUf3FhJfzLnDKwHCVqtycVzuK4uLqmx1dyYd4xFpP8Th': 0, '5Cg5w3WJv7Gh34Am1tCDX96XNcJrcYRKfVwmgJYJCAqezbjz': 0, '5FPN3f3EP6zsBemJsMhL3zhTLqjoQnCBXfzro1uqKP4K7Lcy': 0, '5GcBK8PDrVifV1xAf4Qkkk6KsbsmhDdX9atvk8vyKU8xdU63': 0, '5HeKSHGdsRCwVgyrHchijnZJnq4wiv6GqoDLNah8R5WMfnLB': 0.6521826457005264, '5G3f8VDTT1ydirT3QffnV2TMrNMR2MkQfGUubQNqZcGSj82T': 0, '5ECvRLMj9jkbdM4sLuH5WvjUe87TcAdjRfUj5onN4iKqYYGm': 0, '5FqPJMZDp39KRd9jDhXuFpZWkYD7wG5AXmjoWqK8rDy7ok5B': 0, '5FLTX2dk4VFRy7RNPeWcL5YRQ3XTx8zDNSzHeRjP6XkE8L1v': 0, '5EpxBYq4aVgTQ1rYeBo2mzYt3hgpRTqxZTSsJEkCstBP5Jse': 0, '5EWKNzbqjs7YmXT5ZsHnrv9wQkGzL29mYgV3vEBX8RK4db5q': 0, '5HbLYXUBy1snPR8nfioQ7GoA9x76EELzEq9j7F32vWUQHm1x': 11.5184352349832, '5F9Ga7d5ieV8jpoKJi9AQ2Cxh6JmsdQ5M5Eo8EpfEnMLUtYn': 0, '5DnXm2tBGAD57ySJv5SfpTfLcsQbSKKp6xZKFWABw3cYUgqg': 1.4889123751141222, '5HbScNssaEfioJHXjcXdpyqo1AKnYjymidGF8opcF9rTFZdT': 3.140600585610254, '5DJGBzzPH9num5eGwbEiYFM1GEh3qGHkG2HK4ZeUtoSaU9Bb': 0, '5EFiiNVJMuSBYP7JaQVdcBGa2bdtLbcUSsYjrxtk2rWJh1Wo': 0, '5FKstHjZkh4v3qAMSBa1oJcHCLjxYZ8SNTSz1opTv4hR7gVB': 1.8617429046383156, '5E2VSsWWXkBGCn4mi8RHXYQEF2wLXky6ZsNcTKnmEqaurzTE': 0, '5EnZUXKv4E4DFxJgJJbCqe4nqRqFHySKFs4hfL7jmyeGpZKb': 0}\n"
     ]
    }
   ],
   "source": [
    "daily_payout = {key: 0 for key in top_validators_hotkeys}\n",
    "for i in range(1, 4):\n",
    "    metagraph = bt.metagraph(i)\n",
    "    emissions = float(subtensor.get_emission_value_by_subnet(i))\n",
    "    neurons = pd.DataFrame(metagraph.neurons)\n",
    "    for val in top_validators_hotkeys:\n",
    "        if val in neurons.hotkey.tolist():\n",
    "            dividends = neurons.loc[neurons['hotkey'] == val, 'dividends'].iloc[0]\n",
    "            daily_payout[val] += dividends * emissions * 0.41 * 7200\n",
    "        else:\n",
    "            daily_payout[val] += 0\n",
    "    print(daily_payout)"
   ]
  },
  {
   "cell_type": "code",
   "execution_count": 122,
   "metadata": {},
   "outputs": [],
   "source": [
    "validators_df = pd.DataFrame(daily_payout, index=[0]).T\n",
    "validators_df = validators_df.rename(columns={0: 'daily reward'})\n",
    "validators_df = validators_df.rename_axis('hotkey')"
   ]
  },
  {
   "cell_type": "code",
   "execution_count": 123,
   "metadata": {},
   "outputs": [],
   "source": [
    "stake_df = df[['hotkey', 'total_stake']].set_index('hotkey')\n",
    "# I need a way to extract the stake from the total_stake column \n",
    "stake_df['total_stake'] = [float(element) for element in stake_df.total_stake.tolist()]"
   ]
  },
  {
   "cell_type": "code",
   "execution_count": 124,
   "metadata": {},
   "outputs": [],
   "source": [
    "validators_df = validators_df.join(stake_df)"
   ]
  },
  {
   "cell_type": "code",
   "execution_count": 126,
   "metadata": {},
   "outputs": [],
   "source": [
    "validators_df['APR'] = ((validators_df['daily reward'] * 365) / validators_df['total_stake'])*100"
   ]
  }
 ],
 "metadata": {
  "kernelspec": {
   "display_name": "bittensor",
   "language": "python",
   "name": "python3"
  },
  "language_info": {
   "codemirror_mode": {
    "name": "ipython",
    "version": 3
   },
   "file_extension": ".py",
   "mimetype": "text/x-python",
   "name": "python",
   "nbconvert_exporter": "python",
   "pygments_lexer": "ipython3",
   "version": "3.10.10"
  }
 },
 "nbformat": 4,
 "nbformat_minor": 2
}
