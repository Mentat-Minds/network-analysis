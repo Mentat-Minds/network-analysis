{
 "cells": [
  {
   "cell_type": "markdown",
   "metadata": {},
   "source": [
    "# Validators analysis SN8\n",
    "### List of current validators"
   ]
  },
  {
   "cell_type": "code",
   "execution_count": 49,
   "metadata": {},
   "outputs": [
    {
     "name": "stdout",
     "output_type": "stream",
     "text": [
      "\u001b[34m2024-04-06 16:18:36.961\u001b[0m | \u001b[1m      INFO      \u001b[0m | You are connecting to finney network with endpoint wss://entrypoint-finney.opentensor.ai:443.\n",
      "\u001b[34m2024-04-06 16:18:36.971\u001b[0m | \u001b[33m\u001b[1m    WARNING     \u001b[0m | We strongly encourage running a local subtensor node whenever possible. This increases decentralization and resilience of the network.\n",
      "\u001b[34m2024-04-06 16:18:36.971\u001b[0m | \u001b[33m\u001b[1m    WARNING     \u001b[0m | In a future release, local subtensor will become the default endpoint. To get ahead of this change, please run a local subtensor node and point to it.\n",
      "\u001b[34m2024-04-06 16:18:37.750\u001b[0m | \u001b[1m      INFO      \u001b[0m | Connected to finney network and wss://entrypoint-finney.opentensor.ai:443.\n"
     ]
    }
   ],
   "source": [
    "import bittensor as bt\n",
    "current_metagraph = bt.metagraph(netuid=8)\n",
    "current_neurons = current_metagraph.neurons\n",
    "validators = [element for element in current_neurons if element.validator_trust > 0.1]"
   ]
  },
  {
   "cell_type": "markdown",
   "metadata": {},
   "source": [
    "### List of validators on March 6"
   ]
  },
  {
   "cell_type": "code",
   "execution_count": 50,
   "metadata": {},
   "outputs": [
    {
     "name": "stdout",
     "output_type": "stream",
     "text": [
      "\u001b[34m2024-04-06 16:18:55.150\u001b[0m | \u001b[1m      INFO      \u001b[0m | Connected to archive network and wss://archive.chain.opentensor.ai:443/.\n"
     ]
    }
   ],
   "source": [
    "old_metagraph = bt.subtensor('archive').metagraph(netuid=8, block=2495185)\n",
    "old_neurons = old_metagraph.neurons\n",
    "validators_march6 = [element for element in old_neurons if element.validator_trust > 0.1]"
   ]
  },
  {
   "cell_type": "code",
   "execution_count": 52,
   "metadata": {},
   "outputs": [
    {
     "data": {
      "text/plain": [
       "6"
      ]
     },
     "execution_count": 52,
     "metadata": {},
     "output_type": "execute_result"
    }
   ],
   "source": [
    "dereg_validators = [validator for validator in validators_march6 if validator.hotkey not in [val.hotkey for val in validators]]\n",
    "len(dereg_validators)"
   ]
  }
 ],
 "metadata": {
  "kernelspec": {
   "display_name": "bittensor",
   "language": "python",
   "name": "python3"
  },
  "language_info": {
   "codemirror_mode": {
    "name": "ipython",
    "version": 3
   },
   "file_extension": ".py",
   "mimetype": "text/x-python",
   "name": "python",
   "nbconvert_exporter": "python",
   "pygments_lexer": "ipython3",
   "version": "3.10.10"
  },
  "orig_nbformat": 4
 },
 "nbformat": 4,
 "nbformat_minor": 2
}
